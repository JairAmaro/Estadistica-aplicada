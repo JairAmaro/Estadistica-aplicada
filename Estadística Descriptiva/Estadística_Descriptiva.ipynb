{
 "cells": [
  {
   "cell_type": "markdown",
   "metadata": {},
   "source": [
    "# Estadística Descriptiva\n",
    "\n",
    "La estadística descriptiva es una disciplina que se encarga de recoger, almacenar, ordenar, realizar tablas o gráficos y calcular parámetros básicos sobre el conjunto de datos. En este notebook se presentan los conceptos básicos de la estadística descriptiva y se muestran ejemplos de cómo calcular los parámetros más comunes.\n",
    "\n",
    "* La estadística descriptiva se especializa en recopilar, almacenar, organizar y resumir datos, ofreciendo una visión cuantitativa de variables como el peso, la altura o los ingresos de una empresa\n",
    "\n",
    "* Se emplean diversas fórmulas para resumir la información, incluyendo medidas de tendencia central (como la media y la mediana), de dispersión (como la desviación típica y la varianza) y de posición (como los percentiles y cuartiles).\n",
    "\n",
    "* La utilización de tablas y gráficos es fundamental en la estadística descriptiva para mostrar la información de manera clara y concisa, con ejemplos como histogramas, gráficos de barras y tablas de probabilidad."
   ]
  },
  {
   "cell_type": "markdown",
   "metadata": {},
   "source": [
    "## Media \n",
    "\n",
    "La media aritmética es el valor obtenido al sumar todos los datos y dividir el resultado entre el número total de datos. Se representa con la letra griega $\\mu$ algunas veces pero la podemos ver como \n",
    "\n",
    "$$ MEDIA = \\frac{\\sum_{i =1 }^{n}  x_{1} }{n } $$\n",
    "\n",
    "Donde $x_{i}$ es el valor de la variable y $n$ es el número de datos\n",
    "\n",
    "## Mediana\n",
    "\n",
    "La mediana es el valor que ocupa el lugar central de todos los datos cuando estos se ordenan de menor a mayor. Si el número de datos es par, la mediana es la media de los dos valores centrales.\n",
    "\n",
    "## Moda\n",
    "\n",
    "La moda es el valor que más se repite en un conjunto de datos. Puede haber una moda (unimodal), dos modas (bimodal) o más de dos modas (multimodal).\n"
   ]
  },
  {
   "cell_type": "markdown",
   "metadata": {},
   "source": [
    "## Medidas de dispersión\n",
    "\n",
    "Las medidas de dispersión son indicadores que nos permiten conocer la variabilidad de los datos. Las más comunes son el rango, la varianza y la desviación típica\n",
    "\n",
    "* Varianza: La varianza es la media aritmética de los cuadrados de las desviaciones respecto a la media de una distribución estadística. Se representa con la letra griega $\\sigma^2$ y se calcula con la fórmula:\n",
    "\n",
    "$$ \\sigma^2 = \\frac{\\sum_{i =1 }^{n}  (x_{i} - \\mu)^2 }{n } $$\n",
    "\n",
    "donde $x_{i}$ es el valor de la variable, $\\mu$ es la media y $n$ es el número de datos.\n",
    "\n",
    "* Desviación típica: La desviación típica es la raíz cuadrada de la varianza. Se representa con la letra griega $\\sigma$ y se calcula con la fórmula:\n",
    "\n",
    "$$ \\sigma = \\sqrt{\\frac{\\sum_{i =1 }^{n}  (x_{i} - \\mu)^2 }{n }} $$ \n",
    "\n",
    "* Desviación estándar: La desviación estándar es la raíz cuadrada de la varianza. Se representa con la letra griega $\\sigma$ y se calcula con la fórmula:\n",
    "\n",
    "$$ \\sigma = \\sqrt{\\frac{\\sum_{i =1 }^{n}  (x_{i} - \\mu)^2 }{n }} $$\n",
    "\n",
    "* Range: El rango es la diferencia entre el valor máximo y el valor mínimo de un conjunto de datos. Se calcula con la fórmula:\n",
    "\n",
    "$$ Rango = Max(x) - Min(x) $$\n",
    "\n",
    "## Cuartiles\n",
    "\n",
    "Los cuartiles son los tres valores que dividen un conjunto de datos ordenados en cuatro partes iguales. Los cuartiles son el primer cuartil (Q1), el segundo cuartil (Q2) y el tercer cuartil (Q3). El segundo cuartil es la mediana de los datos.\n",
    "\n",
    "## Percentiles\n",
    "\n",
    "Los percentiles son los 99 valores que dividen un conjunto de datos ordenados en cien partes iguales. Los percentiles son útiles para comparar la posición de un valor en una distribución con respecto a otros valores. El percentil 50 es la mediana de los datos.\n",
    "\n",
    "## Diagrama de barras\n",
    "\n",
    "El diagrama de barras es una representación gráfica que muestra la frecuencia de los datos en forma de barras. Cada barra representa una categoría o un rango de valores, y la altura de la barra representa la frecuencia de los datos en esa categoría o rango.\n",
    "\n",
    "## Histograma\n",
    "\n",
    "El histograma es una representación gráfica que muestra la distribución de los datos en forma de barras. Cada barra representa un intervalo de valores, y la altura de la barra representa la frecuencia de los datos en ese intervalo.\n",
    "\n",
    "## Diagrama de caja\n",
    "\n",
    "El diagrama de caja es una representación gráfica que muestra la distribución de un conjunto de datos. El diagrama de caja se compone de una caja y dos brazos, que representan los cuartiles y los valores extremos de los datos.\n",
    "\n",
    "## Correlación\n",
    "\n",
    "La correlación es una medida estadística que indica la relación entre dos variables. La correlación puede ser positiva, negativa o nula. La correlación positiva indica que las variables aumentan o disminuyen juntas, la correlación negativa indica que una variable aumenta mientras la otra disminuye, y la correlación nula indica que no hay relación entre las variables."
   ]
  },
  {
   "cell_type": "code",
   "execution_count": 2,
   "metadata": {},
   "outputs": [
    {
     "name": "stdout",
     "output_type": "stream",
     "text": [
      "Media: 47.0\n",
      "Mediana: 45.0\n",
      "Moda: 20\n",
      "Varianza: 756.6666666666666\n",
      "Desviación Estándar: 27.507574714370342\n",
      "Rango: 80\n",
      "Percentil 25: 22.5\n",
      "Percentil 75: 67.5\n",
      "Frecuencia:\n",
      "Valores\n",
      "10    1\n",
      "20    2\n",
      "30    1\n",
      "40    1\n",
      "50    1\n",
      "60    1\n",
      "70    1\n",
      "80    1\n",
      "90    1\n",
      "Name: count, dtype: int64\n"
     ]
    },
    {
     "data": {
      "image/png": "[encoded data removed]",
      "text/plain": [
       "<Figure size 640x480 with 1 Axes>"
      ]
     },
     "metadata": {},
     "output_type": "display_data"
    }
   ],
   "source": [
    "import pandas as pd\n",
    "import numpy as np\n",
    "\n",
    "# Creamos un DataFrame de ejemplo\n",
    "data = {'Valores': [10, 20, 20, 30, 40, 50, 60, 70, 80, 90]}\n",
    "df = pd.DataFrame(data)\n",
    "\n",
    "# Medidas de Tendencia Central\n",
    "media = df['Valores'].mean()\n",
    "mediana = df['Valores'].median()\n",
    "moda = df['Valores'].mode()[0]  # Puede haber más de una moda\n",
    "\n",
    "# Medidas de Dispersión\n",
    "varianza = df['Valores'].var()\n",
    "desviacion_estandar = df['Valores'].std()\n",
    "rango = df['Valores'].max() - df['Valores'].min()\n",
    "percentil_25 = df['Valores'].quantile(0.25)\n",
    "percentil_75 = df['Valores'].quantile(0.75)\n",
    "\n",
    "# Distribuciones de Frecuencia\n",
    "frecuencia = df['Valores'].value_counts().sort_index()\n",
    "histograma = df['Valores'].plot(kind='hist', bins=10)\n",
    "\n",
    "# Resultados\n",
    "print(f\"Media: {media}\")\n",
    "print(f\"Mediana: {mediana}\")\n",
    "print(f\"Moda: {moda}\")\n",
    "print(f\"Varianza: {varianza}\")\n",
    "print(f\"Desviación Estándar: {desviacion_estandar}\")\n",
    "print(f\"Rango: {rango}\")\n",
    "print(f\"Percentil 25: {percentil_25}\")\n",
    "print(f\"Percentil 75: {percentil_75}\")\n",
    "print(f\"Frecuencia:\\n{frecuencia}\")\n"
   ]
  },
  {
   "cell_type": "code",
   "execution_count": 3,
   "metadata": {},
   "outputs": [],
   "source": [
    "import matplotlib.pyplot as plt"
   ]
  },
  {
   "cell_type": "code",
   "execution_count": 4,
   "metadata": {},
   "outputs": [],
   "source": [
    "# Generamos un DataFrame con datos aleatorios\n",
    "np.random.seed(0)\n",
    "data = {\n",
    "    'Edad': np.random.randint(18, 80, 1000),\n",
    "    'Salario': np.random.randint(20000, 120000, 1000),\n",
    "    'Puntuacion': np.random.randint(1, 100, 1000)\n",
    "}\n",
    "df = pd.DataFrame(data)"
   ]
  },
  {
   "cell_type": "code",
   "execution_count": 5,
   "metadata": {},
   "outputs": [],
   "source": [
    "# Medidas de Tendencia Central\n",
    "media_edad = df['Edad'].mean()\n",
    "mediana_edad = df['Edad'].median()\n",
    "moda_edad = df['Edad'].mode()[0]"
   ]
  },
  {
   "cell_type": "code",
   "execution_count": 10,
   "metadata": {},
   "outputs": [
    {
     "name": "stdout",
     "output_type": "stream",
     "text": [
      "Media de Edad: 48.167\n",
      "Mediana de Edad: 48.0\n",
      "Moda de Edad: 21\n"
     ]
    }
   ],
   "source": [
    "print(f\"Media de Edad: {media_edad}\")\n",
    "print(f\"Mediana de Edad: {mediana_edad}\")\n",
    "print(f\"Moda de Edad: {moda_edad}\")"
   ]
  },
  {
   "cell_type": "code",
   "execution_count": 6,
   "metadata": {},
   "outputs": [],
   "source": [
    "# Medidas de Dispersión\n",
    "varianza_salario = df['Salario'].var()\n",
    "desviacion_estandar_salario = df['Salario'].std()\n",
    "rango_puntuacion = df['Puntuacion'].max() - df['Puntuacion'].min()\n",
    "percentil_25_puntuacion = df['Puntuacion'].quantile(0.25)\n",
    "percentil_75_puntuacion = df['Puntuacion'].quantile(0.75)\n"
   ]
  },
  {
   "cell_type": "code",
   "execution_count": 11,
   "metadata": {},
   "outputs": [
    {
     "name": "stdout",
     "output_type": "stream",
     "text": [
      "Varianza de Salario: 832010690.2387898\n",
      "Desviación Estándar de Salario: 28844.59551179024\n",
      "Rango de Puntuación: 98\n",
      "Percentil 25 de Puntuación: 24.0\n",
      "Percentil 75 de Puntuación: 73.0\n"
     ]
    }
   ],
   "source": [
    "print(f\"Varianza de Salario: {varianza_salario}\")\n",
    "print(f\"Desviación Estándar de Salario: {desviacion_estandar_salario}\")\n",
    "print(f\"Rango de Puntuación: {rango_puntuacion}\")\n",
    "print(f\"Percentil 25 de Puntuación: {percentil_25_puntuacion}\")\n",
    "print(f\"Percentil 75 de Puntuación: {percentil_75_puntuacion}\")"
   ]
  },
  {
   "cell_type": "code",
   "execution_count": 7,
   "metadata": {},
   "outputs": [],
   "source": [
    "# Distribuciones de Frecuencia\n",
    "frecuencia_edad = df['Edad'].value_counts().sort_index()"
   ]
  },
  {
   "cell_type": "code",
   "execution_count": 8,
   "metadata": {},
   "outputs": [
    {
     "data": {
      "image/png": "[encoded data removed]",
      "text/plain": [
       "<Figure size 1000x500 with 1 Axes>"
      ]
     },
     "metadata": {},
     "output_type": "display_data"
    }
   ],
   "source": [
    "# Histograma de Salario\n",
    "plt.figure(figsize=(10, 5))\n",
    "plt.hist(df['Salario'], bins=20, color='blue', edgecolor='black')\n",
    "plt.title('Histograma de Salarios')\n",
    "plt.xlabel('Salario')\n",
    "plt.ylabel('Frecuencia')\n",
    "plt.show()"
   ]
  },
  {
   "cell_type": "code",
   "execution_count": 12,
   "metadata": {},
   "outputs": [
    {
     "data": {
      "text/plain": [
       "Edad\n",
       "18    21\n",
       "19    14\n",
       "20    14\n",
       "21    28\n",
       "22    14\n",
       "      ..\n",
       "75    16\n",
       "76    17\n",
       "77    14\n",
       "78    15\n",
       "79    15\n",
       "Name: count, Length: 62, dtype: int64"
      ]
     },
     "execution_count": 12,
     "metadata": {},
     "output_type": "execute_result"
    }
   ],
   "source": [
    "frecuencia_edad"
   ]
  },
  {
   "cell_type": "markdown",
   "metadata": {},
   "source": [
    "Varianza\n",
    "\n",
    "La varianza es la media aritmética de los cuadrados de las desviaciones respecto a la media de una distribución estadística. Se representa con la letra griega $\\sigma^2$ y se calcula con la fórmula:\n",
    "\n",
    "$$\n",
    "\\sigma^2 = \\frac{\\sum_{i =1 }^{n}  (x_{i} - \\mu)^2 }{n }\n",
    "$$\n",
    "\n",
    "donde $x_{i}$ es el valor de la variable, $\\mu$ es la media y $n$ es el número de datos.\n",
    "\n",
    "En nuestro conjunto de datos, supongamos que tenemos los siguientes valores: $x_{1} = 10$, $x_{2} = 15$, $x_{3} = 20$, $x_{4} = 25$ y $x_{5} = 30$. Primero calculamos la media $\\mu$:\n",
    "\n",
    "$$\n",
    "\\mu = \\frac{10 + 15 + 20 + 25 + 30}{5} = \\frac{100}{5} = 20\n",
    "$$\n",
    "\n",
    "Luego calculamos la varianza $\\sigma^2$:\n",
    "\n",
    "$$\n",
    "\\sigma^2 = \\frac{(10 - 20)^2 + (15 - 20)^2 + (20 - 20)^2 + (25 - 20)^2 + (30 - 20)^2}{5}\n",
    "$$\n",
    "$$\n",
    "\\sigma^2 = \\frac{(-10)^2 + (-5)^2 + 0^2 + 5^2 + 10^2}{5}\n",
    "$$\n",
    "$$\n",
    "\\sigma^2 = \\frac{100 + 25 + 0 + 25 + 100}{5} = \\frac{250}{5} = 50\n",
    "$$\n",
    "\n",
    "Por lo tanto, la varianza de nuestro conjunto de datos es $\\sigma^2 = 50$.\n"
   ]
  }
 ],
 "metadata": {
  "kernelspec": {
   "display_name": "Python 3",
   "language": "python",
   "name": "python3"
  },
  "language_info": {
   "codemirror_mode": {
    "name": "ipython",
    "version": 3
   },
   "file_extension": ".py",
   "mimetype": "text/x-python",
   "name": "python",
   "nbconvert_exporter": "python",
   "pygments_lexer": "ipython3",
   "version": "3.11.9"
  }
 },
 "nbformat": 4,
 "nbformat_minor": 2
}
